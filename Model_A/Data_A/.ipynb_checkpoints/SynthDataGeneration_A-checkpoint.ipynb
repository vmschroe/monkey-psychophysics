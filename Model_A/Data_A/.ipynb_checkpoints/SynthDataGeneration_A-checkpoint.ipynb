{
 "cells": [
  {
   "cell_type": "code",
   "execution_count": 1,
   "id": "e12369db-b2dd-4a18-a331-05897a25b5d8",
   "metadata": {},
   "outputs": [],
   "source": [
    "import numpy as np\n",
    "import pymc as pm\n",
    "import arviz as az\n",
    "import matplotlib\n",
    "import matplotlib.pyplot as plt\n",
    "import pandas as pd\n",
    "import os\n",
    "import math\n",
    "from scipy.stats import binom\n",
    "import pickle\n",
    "from scipy.stats import gamma\n",
    "from scipy.stats import beta\n",
    "import ast\n",
    "from scipy.stats import truncnorm"
   ]
  },
  {
   "cell_type": "code",
   "execution_count": 2,
   "id": "ec602d86-7776-4ea6-83cf-895543e82509",
   "metadata": {},
   "outputs": [
    {
     "ename": "ModuleNotFoundError",
     "evalue": "No module named 'DataPreprocessor_A'",
     "output_type": "error",
     "traceback": [
      "\u001b[1;31m---------------------------------------------------------------------------\u001b[0m",
      "\u001b[1;31mModuleNotFoundError\u001b[0m                       Traceback (most recent call last)",
      "Cell \u001b[1;32mIn[2], line 1\u001b[0m\n\u001b[1;32m----> 1\u001b[0m \u001b[38;5;28;01mfrom\u001b[39;00m\u001b[38;5;250m \u001b[39m\u001b[38;5;21;01mDataPreprocessor_A\u001b[39;00m\u001b[38;5;250m \u001b[39m\u001b[38;5;28;01mimport\u001b[39;00m preparer_A\n",
      "\u001b[1;31mModuleNotFoundError\u001b[0m: No module named 'DataPreprocessor_A'"
     ]
    }
   ],
   "source": [
    "from DataPreprocessor_A import preparer_A"
   ]
  },
  {
   "cell_type": "code",
   "execution_count": 2,
   "id": "b16cd100-2ed4-4f86-bc55-b2b12010cd6a",
   "metadata": {},
   "outputs": [],
   "source": [
    "with open(\"RawData_A.pkl\", \"rb\") as f:\n",
    "    data = pickle.load(f)  \n",
    "\n",
    "data['response'] = 0"
   ]
  },
  {
   "cell_type": "markdown",
   "id": "5aab0111-f2bb-436d-ac00-6a9b946ed117",
   "metadata": {},
   "source": [
    "Choose some fixed values for beta0, beta1, gam_h, gam_l\n",
    "beta0 = -1, 1\n",
    "beta1 = 3, 6\n",
    "gam_h = 0.03, 0.06\n",
    "gam_l = 0.005, 0.01"
   ]
  },
  {
   "cell_type": "code",
   "execution_count": 3,
   "id": "f1addde9-fcdd-48d5-8c31-e16608318e61",
   "metadata": {},
   "outputs": [],
   "source": [
    "beta0_fix = np.array([-1, 1, -1, 1]).reshape(2,2)\n",
    "beta1_fix = np.array([3, 3, 6, 6]).reshape(2,2)\n",
    "gam_h_fix =  np.array([0.03, 0.06, 0.06, 0.03]).reshape(2,2)\n",
    "gam_l_fix =  np.array([0.005, 0.01, 0.005, 0.01]).reshape(2,2)"
   ]
  },
  {
   "cell_type": "code",
   "execution_count": 4,
   "id": "abb3b7b3-7272-44ea-9aed-1236faf5fb25",
   "metadata": {},
   "outputs": [],
   "source": [
    "data['phi'] = gam_h_fix[ data['side_idx'] , data['dist_idx'] ] + (1- gam_h_fix[ data['side_idx'] , data['dist_idx'] ] - gam_l_fix[ data['side_idx'] , data['dist_idx'] ])/ (1 + np.exp(-(beta0_fix[ data['side_idx'] , data['dist_idx'] ] + beta1_fix[ data['side_idx'] , data['dist_idx'] ] * data['stim'])))"
   ]
  },
  {
   "cell_type": "code",
   "execution_count": 5,
   "id": "8eae237a-0236-4584-bc34-1db624e74070",
   "metadata": {},
   "outputs": [],
   "source": [
    "data['response'] = binom.rvs(n=1, p=np.array(data['phi']))"
   ]
  },
  {
   "cell_type": "code",
   "execution_count": 6,
   "id": "cc632506-16e1-4905-b72b-338672a8f458",
   "metadata": {},
   "outputs": [
    {
     "data": {
      "text/plain": [
       "<matplotlib.collections.PathCollection at 0x1bccfa800a0>"
      ]
     },
     "execution_count": 6,
     "metadata": {},
     "output_type": "execute_result"
    },
    {
     "data": {
      "image/png": "[encoded data removed]",
      "text/plain": [
       "<Figure size 640x480 with 1 Axes>"
      ]
     },
     "metadata": {},
     "output_type": "display_data"
    }
   ],
   "source": [
    "plt.scatter(data['stim'], data['phi'])"
   ]
  },
  {
   "cell_type": "code",
   "execution_count": null,
   "id": "98cf5393-2397-4d3f-ac90-ab10530938de",
   "metadata": {},
   "outputs": [],
   "source": [
    "stim_vals = np.array(data['stim']).reshape(-1,1)\n",
    "ones = np.full_like(stim_vals, 1).reshape(-1,1)\n",
    "cov_mat = np.hstack([ones, stim_vals])\n",
    "grp_idx = np.array(data['grp_idx'])\n",
    "obs_data = np.array(data['response'])\n",
    "\n",
    "ReadyData = {'cov_mat': cov_mat, 'grp_idx': grp_idx, 'obs_data': obs_data}"
   ]
  },
  {
   "cell_type": "code",
   "execution_count": 7,
   "id": "8d59ea0d-4ea3-4cab-915a-4c63b5832217",
   "metadata": {},
   "outputs": [],
   "source": [
    "with open(\"SynthData_A.pkl\",\"wb\") as f:\n",
    "    pickle.dump(ReadyData, f)"
   ]
  }
 ],
 "metadata": {
  "kernelspec": {
   "display_name": "Python 3 (Spyder)",
   "language": "python3",
   "name": "python3"
  },
  "language_info": {
   "codemirror_mode": {
    "name": "ipython",
    "version": 3
   },
   "file_extension": ".py",
   "mimetype": "text/x-python",
   "name": "python",
   "nbconvert_exporter": "python",
   "pygments_lexer": "ipython3",
   "version": "3.10.16"
  }
 },
 "nbformat": 4,
 "nbformat_minor": 5
}
