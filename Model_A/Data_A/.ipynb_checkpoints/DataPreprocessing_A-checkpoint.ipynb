{
 "cells": [
  {
   "cell_type": "code",
   "execution_count": 1,
   "id": "3cf69cb0-9e60-4533-bccc-8acdd7b261a4",
   "metadata": {},
   "outputs": [],
   "source": [
    "import numpy as np\n",
    "import pymc as pm\n",
    "import arviz as az\n",
    "import matplotlib\n",
    "import matplotlib.pyplot as plt\n",
    "import pandas as pd\n",
    "import os\n",
    "import math\n",
    "from scipy.stats import binom\n",
    "import pickle\n",
    "from scipy.stats import gamma\n",
    "from scipy.stats import beta\n",
    "import ast\n",
    "from scipy.stats import truncnorm"
   ]
  },
  {
   "cell_type": "code",
   "execution_count": 2,
   "id": "365e98e2-4ef1-4423-be29-8c6cc2aba3cf",
   "metadata": {},
   "outputs": [],
   "source": [
    "with open(\"..\\\\..\\\\cleaned_data.pkl\", \"rb\") as f:\n",
    "    cleaned_data = pickle.load(f)  \n",
    "\n",
    "with open(\"..\\\\..\\\\session_summary.pkl\", \"rb\") as f:\n",
    "    session_summary = pickle.load(f)  "
   ]
  },
  {
   "cell_type": "code",
   "execution_count": 3,
   "id": "8732bf76-ec43-49ab-b5af-7ae9457f4b21",
   "metadata": {},
   "outputs": [],
   "source": [
    "def organizer_A(data, sess_sum):\n",
    "    sessions = list(sess_sum.index)\n",
    "    newdf = pd.DataFrame()\n",
    "    for sess_idx, sess in enumerate(sessions):\n",
    "        for grp_idx, grp in enumerate(['ld', 'ln', 'rd', 'rn']):\n",
    "            dftemp = data[grp][sess][['stimAMP','lowORhighGUESS']].copy()\n",
    "            dftemp['session'] = sess_idx\n",
    "            dftemp['side'] = 0\n",
    "            dftemp['distracted'] = 0\n",
    "            if grp in ['rd', 'rn']:\n",
    "                dftemp['side'] = 1\n",
    "            if grp in ['ld', 'rd']:\n",
    "                dftemp['distracted'] = 1\n",
    "            dftemp['grp_idx'] = grp_idx\n",
    "            newdf = pd.concat([newdf, dftemp], axis=0)\n",
    "    newdf.columns = ['stim', 'response', 'sess_idx','side_idx','dist_idx', 'grp_idx']\n",
    "    x_old = np.array([6, 12, 18, 24, 32, 38, 44, 50])\n",
    "    newdf['stim'] = (newdf['stim'] - np.mean(x_old))/np.std(x_old)\n",
    "    return newdf"
   ]
  },
  {
   "cell_type": "code",
   "execution_count": 4,
   "id": "ef16e5f2-71cc-4ee8-8b98-b21a5f8ca496",
   "metadata": {},
   "outputs": [],
   "source": [
    "DataFrame_A = organizer_A(cleaned_data, session_summary)"
   ]
  },
  {
   "cell_type": "code",
   "execution_count": 5,
   "id": "3edd03e5-a60e-4f71-9fad-050e9b4d59b4",
   "metadata": {},
   "outputs": [],
   "source": [
    "def preparer_A(newdf):\n",
    "    stim_vals = np.array(newdf['stim']).reshape(-1,1)\n",
    "    ones = np.full_like(stim_vals, 1).reshape(-1,1)\n",
    "    cov_mat = np.hstack([ones, stim_vals])\n",
    "    grp_idx = np.array(newdf['grp_idx'])\n",
    "    obs_data = np.array(newdf['response'])\n",
    "    \n",
    "    ReadyData = {'cov_mat': cov_mat, 'grp_idx': grp_idx, 'obs_data': obs_data}\n",
    "    return ReadyData"
   ]
  },
  {
   "cell_type": "code",
   "execution_count": 7,
   "id": "e3515baf-e086-492d-94a6-b879a0927fbb",
   "metadata": {},
   "outputs": [],
   "source": [
    "Ready_Data_A = preparer_A(DataFrame_A)"
   ]
  },
  {
   "cell_type": "code",
   "execution_count": 8,
   "id": "6716eb2e-77ab-4cdd-87f0-d6f3c2199fbe",
   "metadata": {},
   "outputs": [],
   "source": [
    "with open(\"Ready_Data_A.pkl\",\"wb\") as f:\n",
    "    pickle.dump(Ready_Data_A, f)\n",
    "\n",
    "with open(\"Data_Frame_A.pkl\",\"wb\") as f:\n",
    "    pickle.dump(DataFrame_A, f)"
   ]
  },
  {
   "cell_type": "code",
   "execution_count": null,
   "id": "265a827b-eb83-42a5-b573-5e61c09b7f67",
   "metadata": {},
   "outputs": [],
   "source": []
  }
 ],
 "metadata": {
  "kernelspec": {
   "display_name": "Python 3 (Spyder)",
   "language": "python3",
   "name": "python3"
  },
  "language_info": {
   "codemirror_mode": {
    "name": "ipython",
    "version": 3
   },
   "file_extension": ".py",
   "mimetype": "text/x-python",
   "name": "python",
   "nbconvert_exporter": "python",
   "pygments_lexer": "ipython3",
   "version": "3.10.16"
  }
 },
 "nbformat": 4,
 "nbformat_minor": 5
}
