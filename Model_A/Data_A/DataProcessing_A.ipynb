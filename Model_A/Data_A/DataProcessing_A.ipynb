{
 "cells": [
  {
   "cell_type": "code",
   "execution_count": 1,
   "id": "e91fa79a-9697-4529-8dfb-d91111741133",
   "metadata": {},
   "outputs": [],
   "source": [
    "import numpy as np\n",
    "import pymc as pm\n",
    "import pandas as pd\n",
    "import arviz as az\n",
    "import matplotlib\n",
    "import matplotlib.pyplot as plt\n",
    "import os\n",
    "import math\n",
    "import pickle\n",
    "import ast\n",
    "import xarray as xr\n",
    "from scipy.stats import binom"
   ]
  },
  {
   "cell_type": "code",
   "execution_count": 2,
   "id": "83cee055-e9b1-4c39-b5a4-85cb5b914ab3",
   "metadata": {},
   "outputs": [],
   "source": [
    "#load raw data\n",
    "with open(\"..\\\\..\\\\Sirius_Data.pkl\", \"rb\") as f:\n",
    "    DataDict = pickle.load(f)  "
   ]
  },
  {
   "cell_type": "markdown",
   "id": "32b4d019-4020-430f-8414-ad8362b13c40",
   "metadata": {},
   "source": [
    "Format Experimental Data"
   ]
  },
  {
   "cell_type": "code",
   "execution_count": 3,
   "id": "77258c22-47d0-4334-ba6e-191d37935e31",
   "metadata": {},
   "outputs": [],
   "source": [
    "Raw_DataFrame = DataDict['data']\n",
    "stims = np.array(Raw_DataFrame['stim_amp'])\n",
    "\n",
    "#normalize stim amps\n",
    "x_old = np.unique(stims)\n",
    "x_mu = np.mean(x_old)\n",
    "x_sig = np.std(x_old)\n",
    "stims_normed = ((stims-x_mu)/x_sig)\n",
    "\n",
    "#construct covarate matrix\n",
    "cov_mat = np.vstack([np.full_like(stims_normed, 1.0), stims_normed]).T\n",
    "\n",
    "#hand/distraction group indices\n",
    "grp_idx = np.array(Raw_DataFrame['group_idx'])\n",
    "\n",
    "#binary responses\n",
    "resp = np.array(Raw_DataFrame['response'])\n",
    "\n",
    "#construct dictionary\n",
    "ReadyData_Sirius_A = {'cov_mat':cov_mat,'grp_idx':grp_idx,'resp': resp}"
   ]
  },
  {
   "cell_type": "code",
   "execution_count": 4,
   "id": "efda1229-3a8c-4beb-8cad-acda5b04ef0a",
   "metadata": {},
   "outputs": [],
   "source": [
    "#save processed data\n",
    "with open(\"ReadyData_Sirius_A.pkl\",\"wb\") as f:\n",
    "    pickle.dump(ReadyData_Sirius_A, f)"
   ]
  },
  {
   "cell_type": "markdown",
   "id": "3947658c-3acb-4883-b646-bd3c6d0a0ca7",
   "metadata": {},
   "source": [
    "Generate Synthetic Dataset"
   ]
  },
  {
   "cell_type": "code",
   "execution_count": 5,
   "id": "9c0eed49-66d0-435e-9fc0-1d0e9130c925",
   "metadata": {},
   "outputs": [],
   "source": [
    "#fix parameters for each group\n",
    "gam_h_fix =  np.array([0.03, 0.06, 0.06, 0.03])\n",
    "gam_l_fix =  np.array([0.005, 0.01, 0.005, 0.01])\n",
    "beta0_fix = np.array([-1, 1, -1, 1])\n",
    "beta1_fix = np.array([3, 3, 6, 6])\n",
    "params_fixed = [gam_h_fix, gam_l_fix, beta0_fix, beta1_fix]"
   ]
  },
  {
   "cell_type": "code",
   "execution_count": 6,
   "id": "e7cac770-d1fe-4f7c-b17b-ad81d028eafb",
   "metadata": {},
   "outputs": [],
   "source": [
    "#generates synthetic data from same covariates as experimental\n",
    "def synth_generator_A(params_fixed, cov_mat, grp_idx):\n",
    "    [gam_h_fix, gam_l_fix, beta0_fix, beta1_fix] = params_fixed\n",
    "    beta_mat = np.vstack([beta0_fix, beta1_fix])\n",
    "    log_arg = (cov_mat @ beta_mat)\n",
    "    psis_mat = gam_h_fix + (1-gam_h_fix-gam_l_fix)/( 1 + np.exp( - log_arg ))\n",
    "    psis = psis_mat[np.arange(len(grp_idx)), grp_idx]\n",
    "    synth_resp = binom.rvs(n=1, p=psis)\n",
    "    return synth_resp"
   ]
  },
  {
   "cell_type": "code",
   "execution_count": 7,
   "id": "ccdee30d-bcbf-42ab-a410-f00390ece2f9",
   "metadata": {},
   "outputs": [],
   "source": [
    "synth_resp = synth_generator_A(params_fixed, cov_mat, grp_idx)"
   ]
  },
  {
   "cell_type": "code",
   "execution_count": 8,
   "id": "883f4e90-136a-4cb6-be79-f39e1ddb2b34",
   "metadata": {},
   "outputs": [],
   "source": [
    "#construct dictionary\n",
    "ReadyData_Synth_A = {'cov_mat': cov_mat,\n",
    "                     'grp_idx': grp_idx,\n",
    "                     'resp': synth_resp, \n",
    "                     'params_fixed': params_fixed}"
   ]
  },
  {
   "cell_type": "code",
   "execution_count": 9,
   "id": "4a71c2b1-7d72-4f18-893c-44ce5b522001",
   "metadata": {},
   "outputs": [],
   "source": [
    "#save processed data\n",
    "with open(\"ReadyData_Synth_A.pkl\",\"wb\") as f:\n",
    "    pickle.dump(ReadyData_Synth_A, f)"
   ]
  }
 ],
 "metadata": {
  "kernelspec": {
   "display_name": "Python 3 (Spyder)",
   "language": "python3",
   "name": "python3"
  },
  "language_info": {
   "codemirror_mode": {
    "name": "ipython",
    "version": 3
   },
   "file_extension": ".py",
   "mimetype": "text/x-python",
   "name": "python",
   "nbconvert_exporter": "python",
   "pygments_lexer": "ipython3",
   "version": "3.10.16"
  }
 },
 "nbformat": 4,
 "nbformat_minor": 5
}
