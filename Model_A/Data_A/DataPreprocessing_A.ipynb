{
 "cells": [
  {
   "cell_type": "code",
   "execution_count": 1,
   "id": "3cf69cb0-9e60-4533-bccc-8acdd7b261a4",
   "metadata": {},
   "outputs": [],
   "source": [
    "import numpy as np\n",
    "import pymc as pm\n",
    "import arviz as az\n",
    "import matplotlib\n",
    "import matplotlib.pyplot as plt\n",
    "import pandas as pd\n",
    "import os\n",
    "import math\n",
    "from scipy.stats import binom\n",
    "import pickle\n",
    "from scipy.stats import gamma\n",
    "from scipy.stats import beta\n",
    "import ast\n",
    "from scipy.stats import truncnorm"
   ]
  },
  {
   "cell_type": "code",
   "execution_count": 2,
   "id": "365e98e2-4ef1-4423-be29-8c6cc2aba3cf",
   "metadata": {},
   "outputs": [],
   "source": [
    "with open(\"..\\\\..\\\\cleaned_data.pkl\", \"rb\") as f:\n",
    "    cleaned_data = pickle.load(f)  \n",
    "\n",
    "with open(\"..\\\\..\\\\session_summary.pkl\", \"rb\") as f:\n",
    "    session_summary = pickle.load(f)  "
   ]
  },
  {
   "cell_type": "code",
   "execution_count": 5,
   "id": "cf5bb88a-bc36-4fbe-946e-18355af15e77",
   "metadata": {},
   "outputs": [],
   "source": [
    "from DataPreprocessUtils_A import organizer_A\n",
    "from DataPreprocessUtils_A import preparer_A"
   ]
  },
  {
   "cell_type": "code",
   "execution_count": 6,
   "id": "ef16e5f2-71cc-4ee8-8b98-b21a5f8ca496",
   "metadata": {},
   "outputs": [],
   "source": [
    "DataFrame_A = organizer_A(cleaned_data, session_summary)"
   ]
  },
  {
   "cell_type": "code",
   "execution_count": 7,
   "id": "e3515baf-e086-492d-94a6-b879a0927fbb",
   "metadata": {},
   "outputs": [],
   "source": [
    "Ready_Data_A = preparer_A(DataFrame_A)"
   ]
  },
  {
   "cell_type": "code",
   "execution_count": 8,
   "id": "6716eb2e-77ab-4cdd-87f0-d6f3c2199fbe",
   "metadata": {},
   "outputs": [],
   "source": [
    "with open(\"Ready_Data_A.pkl\",\"wb\") as f:\n",
    "    pickle.dump(Ready_Data_A, f)\n",
    "\n",
    "with open(\"Data_Frame_A.pkl\",\"wb\") as f:\n",
    "    pickle.dump(DataFrame_A, f)"
   ]
  },
  {
   "cell_type": "code",
   "execution_count": null,
   "id": "265a827b-eb83-42a5-b573-5e61c09b7f67",
   "metadata": {},
   "outputs": [],
   "source": []
  }
 ],
 "metadata": {
  "kernelspec": {
   "display_name": "Python 3 (Spyder)",
   "language": "python3",
   "name": "python3"
  },
  "language_info": {
   "codemirror_mode": {
    "name": "ipython",
    "version": 3
   },
   "file_extension": ".py",
   "mimetype": "text/x-python",
   "name": "python",
   "nbconvert_exporter": "python",
   "pygments_lexer": "ipython3",
   "version": "3.10.16"
  }
 },
 "nbformat": 4,
 "nbformat_minor": 5
}
