{
 "cells": [
  {
   "cell_type": "code",
   "execution_count": 1,
   "id": "e12369db-b2dd-4a18-a331-05897a25b5d8",
   "metadata": {},
   "outputs": [],
   "source": [
    "import numpy as np\n",
    "import pymc as pm\n",
    "import arviz as az\n",
    "import matplotlib\n",
    "import matplotlib.pyplot as plt\n",
    "import pandas as pd\n",
    "import os\n",
    "import math\n",
    "from scipy.stats import binom\n",
    "import pickle\n",
    "from scipy.stats import gamma\n",
    "from scipy.stats import beta\n",
    "import ast\n",
    "from scipy.stats import truncnorm"
   ]
  },
  {
   "cell_type": "code",
   "execution_count": 3,
   "id": "ec602d86-7776-4ea6-83cf-895543e82509",
   "metadata": {},
   "outputs": [],
   "source": [
    "from DataPreprocessor_A import preparer_A\n",
    "from SynthDataUtils_A import synth_generator_A"
   ]
  },
  {
   "cell_type": "markdown",
   "id": "5aab0111-f2bb-436d-ac00-6a9b946ed117",
   "metadata": {},
   "source": [
    "Choose some fixed values for beta0, beta1, gam_h, gam_l\n",
    "beta0 = -1, 1\n",
    "beta1 = 3, 6\n",
    "gam_h = 0.03, 0.06\n",
    "gam_l = 0.005, 0.01"
   ]
  },
  {
   "cell_type": "code",
   "execution_count": 5,
   "id": "f1addde9-fcdd-48d5-8c31-e16608318e61",
   "metadata": {},
   "outputs": [],
   "source": [
    "beta0_fix = np.array([-1, 1, -1, 1])\n",
    "beta1_fix = np.array([3, 3, 6, 6])\n",
    "gam_h_fix =  np.array([0.03, 0.06, 0.06, 0.03])\n",
    "gam_l_fix =  np.array([0.005, 0.01, 0.005, 0.01])"
   ]
  },
  {
   "cell_type": "code",
   "execution_count": 9,
   "id": "449c095b-46d7-4084-84fd-2cc9e866a0bf",
   "metadata": {},
   "outputs": [],
   "source": [
    "Synth_Frame_A = synth_generator_A(beta0_fix, beta1_fix, gam_h_fix, gam_l_fix)"
   ]
  },
  {
   "cell_type": "code",
   "execution_count": 10,
   "id": "03ec03e1-7a99-4261-833e-35d68de8599d",
   "metadata": {},
   "outputs": [],
   "source": [
    "Ready_Synth_A = preparer_A(Synth_Frame_A)"
   ]
  },
  {
   "cell_type": "code",
   "execution_count": 11,
   "id": "8d59ea0d-4ea3-4cab-915a-4c63b5832217",
   "metadata": {},
   "outputs": [],
   "source": [
    "with open(\"Synth_Frame_A.pkl\",\"wb\") as f:\n",
    "    pickle.dump(Synth_Frame_A, f)\n",
    "with open(\"Ready_Synth_A.pkl\",\"wb\") as f:\n",
    "    pickle.dump(Ready_Synth_A, f)"
   ]
  },
  {
   "cell_type": "code",
   "execution_count": 12,
   "id": "11377550-d164-424d-a219-99a06ba04863",
   "metadata": {},
   "outputs": [
    {
     "data": {
      "text/plain": [
       "array([[1, 2],\n",
       "       [3, 4]])"
      ]
     },
     "execution_count": 12,
     "metadata": {},
     "output_type": "execute_result"
    }
   ],
   "source": [
    "np.array([1, 2, 3, 4]).reshape(2,2)"
   ]
  },
  {
   "cell_type": "code",
   "execution_count": null,
   "id": "58992e58-f6ea-4c9e-a786-5af5b7717e5a",
   "metadata": {},
   "outputs": [],
   "source": []
  }
 ],
 "metadata": {
  "kernelspec": {
   "display_name": "Python 3 (Spyder)",
   "language": "python3",
   "name": "python3"
  },
  "language_info": {
   "codemirror_mode": {
    "name": "ipython",
    "version": 3
   },
   "file_extension": ".py",
   "mimetype": "text/x-python",
   "name": "python",
   "nbconvert_exporter": "python",
   "pygments_lexer": "ipython3",
   "version": "3.10.16"
  }
 },
 "nbformat": 4,
 "nbformat_minor": 5
}
