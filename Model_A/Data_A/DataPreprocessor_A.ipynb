{
 "cells": [
  {
   "cell_type": "code",
   "execution_count": 1,
   "id": "3cf69cb0-9e60-4533-bccc-8acdd7b261a4",
   "metadata": {},
   "outputs": [],
   "source": [
    "import numpy as np\n",
    "import pymc as pm\n",
    "import arviz as az\n",
    "import matplotlib\n",
    "import matplotlib.pyplot as plt\n",
    "import pandas as pd\n",
    "import os\n",
    "import math\n",
    "from scipy.stats import binom\n",
    "import pickle\n",
    "from scipy.stats import gamma\n",
    "from scipy.stats import beta\n",
    "import ast\n",
    "from scipy.stats import truncnorm"
   ]
  },
  {
   "cell_type": "code",
   "execution_count": 2,
   "id": "365e98e2-4ef1-4423-be29-8c6cc2aba3cf",
   "metadata": {},
   "outputs": [],
   "source": [
    "with open(\"..\\\\..\\\\prepared_data.pkl\", \"rb\") as f:\n",
    "    data = pickle.load(f)  \n",
    "\n",
    "with open(\"..\\\\..\\\\session_summary.pkl\", \"rb\") as f:\n",
    "    sess_sum = pickle.load(f)  "
   ]
  },
  {
   "cell_type": "code",
   "execution_count": 3,
   "id": "83dd8f6e-0064-4924-9862-38fe3c4f9013",
   "metadata": {},
   "outputs": [],
   "source": [
    "sessions = list(sess_sum.index)"
   ]
  },
  {
   "cell_type": "code",
   "execution_count": 5,
   "id": "4b30bf0b-c35b-45f3-a1c2-83deac312a21",
   "metadata": {},
   "outputs": [],
   "source": [
    "newdf = pd.DataFrame()\n",
    "for sess_idx, sess in enumerate(sessions):\n",
    "    for grp_idx, grp in enumerate(['ld', 'ln', 'rd', 'rn']):\n",
    "        dftemp = data[grp][sess][['stimAMP','lowORhighGUESS']].copy()\n",
    "        dftemp['session'] = sess_idx\n",
    "        dftemp['side'] = 0\n",
    "        dftemp['distracted'] = 0\n",
    "        if grp in ['rd', 'rn']:\n",
    "            dftemp['side'] = 1\n",
    "        if grp in ['ld', 'rd']:\n",
    "            dftemp['distracted'] = 1\n",
    "        dftemp['grp_idx'] = grp_idx\n",
    "        newdf = pd.concat([newdf, dftemp], axis=0)"
   ]
  },
  {
   "cell_type": "code",
   "execution_count": 6,
   "id": "f8c059eb-4e88-4aa5-a394-1e653d9a22a7",
   "metadata": {},
   "outputs": [],
   "source": [
    "newdf.columns = ['stim', 'response', 'sess_idx','side_idx','dist_idx', 'grp_idx']"
   ]
  },
  {
   "cell_type": "code",
   "execution_count": 7,
   "id": "256fb8e1-6420-4835-800e-a5a5092d7dfe",
   "metadata": {},
   "outputs": [],
   "source": [
    "x_old = np.array([6, 12, 18, 24, 32, 38, 44, 50])\n",
    "newdf['stim'] = (newdf['stim'] - np.mean(x_old))/np.std(x_old)"
   ]
  },
  {
   "cell_type": "code",
   "execution_count": 8,
   "id": "6716eb2e-77ab-4cdd-87f0-d6f3c2199fbe",
   "metadata": {},
   "outputs": [],
   "source": [
    "with open(\"ReadyData_A.pkl\",\"wb\") as f:\n",
    "    pickle.dump(newdf, f)"
   ]
  }
 ],
 "metadata": {
  "kernelspec": {
   "display_name": "Python 3 (Spyder)",
   "language": "python3",
   "name": "python3"
  },
  "language_info": {
   "codemirror_mode": {
    "name": "ipython",
    "version": 3
   },
   "file_extension": ".py",
   "mimetype": "text/x-python",
   "name": "python",
   "nbconvert_exporter": "python",
   "pygments_lexer": "ipython3",
   "version": "3.10.16"
  }
 },
 "nbformat": 4,
 "nbformat_minor": 5
}
