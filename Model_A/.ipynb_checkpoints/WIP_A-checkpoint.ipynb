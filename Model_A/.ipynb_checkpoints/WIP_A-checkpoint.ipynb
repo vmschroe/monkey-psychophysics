{
 "cells": [
  {
   "cell_type": "code",
   "execution_count": null,
   "id": "368ec1af-774c-47ee-b9ee-ffe7bf3154ce",
   "metadata": {},
   "outputs": [],
   "source": [
    "import numpy as np\n",
    "import pymc as pm\n",
    "import pandas as pd\n",
    "import arviz as az\n",
    "import matplotlib\n",
    "import matplotlib.pyplot as plt\n",
    "import os\n",
    "import math\n",
    "import pickle\n",
    "import ast\n",
    "import xarray as xr"
   ]
  },
  {
   "cell_type": "code",
   "execution_count": null,
   "id": "1815ef02-c0d6-4c8b-955c-9de9d8013056",
   "metadata": {},
   "outputs": [],
   "source": [
    "#load and unpack data\n",
    "with open(\"Data_A\\\\ReadyData_Synth_A.pkl\", \"rb\") as f:\n",
    "    data_dict = pickle.load(f)\n",
    "\n",
    "cov_mat = data_dict['cov_mat']\n",
    "grp_idx = data_dict['grp_idx']\n",
    "obs_data = data_dict['resp']\n",
    "params_fixed = data_dict['params_fixed']"
   ]
  },
  {
   "cell_type": "raw",
   "id": "3c90c4c6-f7f4-4f6f-971a-bb1797cfbf8f",
   "metadata": {},
   "source": [
    "Construct Model in PyMC:"
   ]
  },
  {
   "cell_type": "code",
   "execution_count": null,
   "id": "c294e4c4-9855-4068-a60f-cc9f43317618",
   "metadata": {},
   "outputs": [],
   "source": [
    "exec(open(\"Build_Model_A.py\").read())"
   ]
  },
  {
   "cell_type": "markdown",
   "id": "a3a9e2ff-e6e0-432b-8603-dc39554d485c",
   "metadata": {},
   "source": [
    "Add PSE and JND"
   ]
  },
  {
   "cell_type": "code",
   "execution_count": null,
   "id": "b1e47409-9f95-45c2-adf2-362d68e37b69",
   "metadata": {},
   "outputs": [],
   "source": [
    "with model_A:\n",
    "    PSE = pm.Deterministic(\"PSE\", (-beta_vec[0] + pm.math.log( (1-2*gam_h) / (1-2*gam_l) ))/ beta_vec[1] , dims=(\"groups\",))\n",
    "    JND = pm.Deterministic(\"JND\", (pm.math.log( ((3-4*gam_h)*(3-4*gam_l)) / ((1-4*gam_h)*(1-4*gam_l)) )) / (2*beta_vec[1]) , dims=(\"groups\",))"
   ]
  },
  {
   "cell_type": "code",
   "execution_count": null,
   "id": "f3306097-3780-4f04-961a-f3acea4a4491",
   "metadata": {},
   "outputs": [],
   "source": [
    "with model_A:\n",
    "    trace = pm.sample(return_inferencedata=True, chains = 4, cores=1, progressbar=True, idata_kwargs={\"log_likelihood\": True})   \n",
    "print(\"FINISHED SAMPLING!\")"
   ]
  },
  {
   "cell_type": "markdown",
   "id": "9ddc3ccd-0f96-4516-a486-1bc22bd2e083",
   "metadata": {},
   "source": [
    "Look at r_hats and effective sample sizes, looks good"
   ]
  },
  {
   "cell_type": "code",
   "execution_count": null,
   "id": "f63f4a13-afe2-48ce-b88c-76451fd0908d",
   "metadata": {},
   "outputs": [],
   "source": [
    "az.summary(trace, var_names = ['beta_vec', 'gam_h', 'gam_l', 'PSE', 'JND'])"
   ]
  },
  {
   "cell_type": "markdown",
   "id": "fb948fde-0c49-4c81-b317-e11057e8bf3f",
   "metadata": {},
   "source": [
    "Look at joint posteriors for parameters. Some identifiability issues."
   ]
  },
  {
   "cell_type": "code",
   "execution_count": null,
   "id": "a901144c-2f82-4bf0-b3f4-0795f6aa5cfd",
   "metadata": {},
   "outputs": [],
   "source": [
    "grp_num = 0\n",
    "grp_choice = coords['groups'][grp_num]\n",
    "\n",
    "param_bases = ['gam_h ', 'gam_l ','beta_vec b0, ','beta_vec b1, ']\n",
    "ref_vals = {}\n",
    "\n",
    "for grp_num, grp_choice in enumerate(coords['groups']):\n",
    "    temp_dict = {}\n",
    "    for par_num, par_base in enumerate(param_bases):\n",
    "        temp_dict[par_base+grp_choice] = params_fixed[par_num][grp_num]\n",
    "    ref_vals[grp_choice] = temp_dict"
   ]
  },
  {
   "cell_type": "code",
   "execution_count": null,
   "id": "3ead536c-c23c-45fa-a7c0-1b73390aeb27",
   "metadata": {},
   "outputs": [],
   "source": [
    "for grp_num, grp_choice in enumerate(coords['groups']):\n",
    "     az.plot_pair(trace, var_names=['gam_h', 'gam_l', 'beta_vec'], \n",
    "             coords = {'betas': [\"b0\", \"b1\"], 'groups': [grp_choice]}, \n",
    "             reference_values = ref_vals[grp_choice],\n",
    "                       reference_values_kwargs=dict(marker=\"o\", color=\"red\", markersize=8),\n",
    "             kind = 'kde', marginals=True)"
   ]
  },
  {
   "cell_type": "markdown",
   "id": "2f2389a5-b079-4280-a499-b7bebbd61522",
   "metadata": {},
   "source": [
    "Look at joint posteriors for PSE and JND show less identifiability isses."
   ]
  },
  {
   "cell_type": "code",
   "execution_count": null,
   "id": "3f4f3f95-65b4-4e00-9d8e-63ba4c4eb01a",
   "metadata": {},
   "outputs": [],
   "source": [
    "\n",
    "param_bases2 = ['gam_h ', 'gam_l ']\n",
    "ref_vals2 = {}\n",
    "\n",
    "for grp_num, grp_choice in enumerate(coords['groups']):\n",
    "    temp_dict = {}\n",
    "    for par_num, par_base in enumerate(param_bases2):\n",
    "        temp_dict[par_base+grp_choice] = params_fixed[par_num][grp_num]\n",
    "    ref_vals2[grp_choice] = temp_dict\n",
    "    PSE = (-params_fixed[2][grp_num] + np.log( (1-2*params_fixed[0][grp_num]) / (1-2*params_fixed[1][grp_num]) ))/ params_fixed[3][grp_num]\n",
    "    JND = np.log( ((3-4*params_fixed[0][grp_num])*(3-4*params_fixed[1][grp_num])) / \n",
    "                 ((1-4*params_fixed[0][grp_num])*(1-4*params_fixed[1][grp_num])) ) / (2*params_fixed[3][grp_num])\n",
    "    ref_vals2[grp_choice]['PSE '+grp_choice] = PSE\n",
    "    ref_vals2[grp_choice]['JND '+grp_choice] = JND\n",
    "\n",
    "for grp_num, grp_choice in enumerate(coords['groups']):\n",
    "    az.plot_pair(trace, var_names=['gam_h', 'gam_l', 'PSE', 'JND'], \n",
    "             coords = {'groups': [grp_choice]},  \n",
    "             reference_values = ref_vals2[grp_choice],\n",
    "                       reference_values_kwargs=dict(marker=\"o\", color=\"red\", markersize=8),\n",
    "             kind = 'kde', marginals=True)"
   ]
  },
  {
   "cell_type": "markdown",
   "id": "95917024-c51a-4f51-b56d-80136aead01f",
   "metadata": {},
   "source": [
    "Look at traceplots: everything seems good"
   ]
  },
  {
   "cell_type": "code",
   "execution_count": null,
   "id": "9436d5c0-4f95-4d72-b88a-3b079ffda7be",
   "metadata": {},
   "outputs": [],
   "source": [
    "az.plot_trace(trace, var_names=('gam_h', 'gam_l', 'beta_vec'), coords = {\n",
    "    'groups': ['left_bi'],\n",
    "    'betas': [\"b0\", \"b1\"]}, compact=False,  backend_kwargs={\"constrained_layout\": True})"
   ]
  },
  {
   "cell_type": "code",
   "execution_count": null,
   "id": "f3dfdc61-36e3-46fa-91a0-f8ab36d110f4",
   "metadata": {},
   "outputs": [],
   "source": [
    "param_samps = trace.posterior[['beta_vec', 'gam_h', 'gam_l']]"
   ]
  },
  {
   "cell_type": "code",
   "execution_count": null,
   "id": "383636a7-d815-43e4-aa4b-0892f17f01a8",
   "metadata": {},
   "outputs": [],
   "source": [
    "gam_h_samps = {}\n",
    "gam_l_samps = {}\n",
    "beta_0_samps = {}\n",
    "beta_1_samps = {}\n",
    "\n",
    "\n",
    "for grp in [\"left_bi\",\"left_uni\",\"right_bi\",\"right_uni\"]:\n",
    "    gam_h_samps[grp] = param_samps['gam_h'].sel(groups = grp).values.flatten()\n",
    "    gam_l_samps[grp] = param_samps['gam_l'].sel(groups = grp).values.flatten()\n",
    "    beta_0_samps[grp] = param_samps['beta_vec'].sel(groups = grp, betas='b0').values.flatten()\n",
    "    beta_1_samps[grp] = param_samps['beta_vec'].sel(groups = grp, betas='b1').values.flatten()"
   ]
  },
  {
   "cell_type": "code",
   "execution_count": null,
   "id": "5a4e98ba-4226-4000-9c69-dfb756adafb5",
   "metadata": {},
   "outputs": [],
   "source": [
    "def psychfunc(params, X):\n",
    "    \"\"\"\n",
    "    Psychometric function with lapses\n",
    "\n",
    "    Parameters:\n",
    "    params : [gamma, lambda_, beta0, beta1]\n",
    "    X : Stimulus amplitude level\n",
    "\n",
    "    Returns:\n",
    "    probability of guess \"high\"\n",
    "\n",
    "    \"\"\"\n",
    "    X = np.asarray(X)\n",
    "    gam_h, gam_l, beta0, beta1 = params\n",
    "    logistic = 1 / (1 + np.exp(-(beta0 + beta1 * X)))\n",
    "    return gam_h + (1 - gam_h - gam_l) * logistic"
   ]
  },
  {
   "cell_type": "code",
   "execution_count": null,
   "id": "e4b3107a-51b3-4d05-b44b-8983fc6cea6a",
   "metadata": {},
   "outputs": [],
   "source": [
    "#frquencies for each level\n",
    "freq_df = pd.DataFrame({'stim': cov_mat[:,1], 'grp_idx': grp_idx, 'obs_data': obs_data})\n",
    "freqs = pd.pivot_table(\n",
    "    freq_df, \n",
    "    values='obs_data',\n",
    "    index='stim',\n",
    "    columns='grp_idx',\n",
    "    aggfunc='mean'\n",
    ")"
   ]
  },
  {
   "cell_type": "code",
   "execution_count": null,
   "id": "97570a49-d0a5-4f40-919b-56eb8e495ee7",
   "metadata": {},
   "outputs": [],
   "source": [
    "xfit = np.linspace(-1.6,1.6,500)\n",
    "y_samples = {}\n",
    "hdis = {}\n",
    "rec_params = {}\n",
    "yrec = {}\n",
    "fixed = np.array(params_fixed)\n",
    "\n",
    "for grp_i, grp in enumerate(['left_uni','left_bi','right_uni','right_bi']):\n",
    "    y_samples[grp] = np.array([psychfunc([gam_h,gam_l,beta_0,beta_1], xfit) \n",
    "                          for gam_h,gam_l,beta_0,beta_1 in zip(\n",
    "                              gam_h_samps[grp], gam_l_samps[grp], beta_0_samps[grp], beta_1_samps[grp])])\n",
    "    hdis[grp] = az.hdi(y_samples[grp], hdi_prob=0.95)\n",
    "    rec_params[grp] = np.mean(np.array([gam_h_samps[grp], gam_l_samps[grp], beta_0_samps[grp], beta_1_samps[grp]]), axis = 1)\n",
    "    \n",
    "    \n",
    "    yrec[grp] = psychfunc(rec_params[grp], xfit)\n",
    "    \n",
    "    plt.plot(xfit,yrec[grp],label='Recovered Curve',color='green')\n",
    "    plt.plot(xfit, psychfunc(fixed[:,grp_i], xfit), label='Original Curve',color='red')\n",
    "    plt.fill_between(xfit, hdis[grp][:, 0], hdis[grp][:, 1], color='green', alpha=0.3, label='95% HDI')\n",
    "    plt.scatter(np.array(freqs.index),np.array(freqs[grp_i]),label='Data', color = 'red')\n",
    "    plt.title(grp)\n",
    "    plt.xlabel('Stimulus Amplitude')\n",
    "    plt.legend(loc='upper left', fontsize=9.5)\n",
    "    plt.show()   "
   ]
  },
  {
   "cell_type": "code",
   "execution_count": null,
   "id": "c0edcbe3-1d71-4323-8510-fe1093eee21c",
   "metadata": {},
   "outputs": [],
   "source": [
    "with model_A:\n",
    "    pm.sample_posterior_predictive(trace,extend_inferencedata=True)"
   ]
  },
  {
   "cell_type": "code",
   "execution_count": null,
   "id": "31bdb146-57d4-4e00-ab6c-3bc5364514c6",
   "metadata": {},
   "outputs": [],
   "source": [
    "az.plot_ppc(trace, num_pp_samples=100)"
   ]
  },
  {
   "cell_type": "code",
   "execution_count": null,
   "id": "9fd0739b-4b02-4266-8d5f-84c165ada22a",
   "metadata": {},
   "outputs": [],
   "source": [
    "true_probs = np.zeros([8,4])\n",
    "pred_probs = np.zeros([8,4])\n",
    "fixed = np.array(params_fixed)\n",
    "for grp_i, grp in enumerate(['left_uni','left_bi','right_uni','right_bi']):\n",
    "    true_probs[:,grp_i] = psychfunc(fixed[:,grp_i],np.array(freqs.index))\n",
    "    pred_probs[:,grp_i] = psychfunc(rec_params[grp],np.array(freqs.index))"
   ]
  },
  {
   "cell_type": "code",
   "execution_count": null,
   "id": "fab89a7f-cd5a-453a-8379-818babf61eeb",
   "metadata": {},
   "outputs": [],
   "source": [
    "true_prop = np.array(freqs)"
   ]
  },
  {
   "cell_type": "markdown",
   "id": "662136b7-be1e-4eb1-bbc6-36048a1478a0",
   "metadata": {},
   "source": [
    "We can see that the model does a better job recovering the original response probabilities than the frequencies of the data."
   ]
  },
  {
   "cell_type": "raw",
   "id": "7eb0620b-75eb-4e0d-ba69-78f269205eac",
   "metadata": {},
   "source": [
    "for i, xi in enumerate(freqs.index):\n",
    "    for grp_i, grp in enumerate(['left_uni','left_bi','right_uni','right_bi']):\n",
    "        mask = (freq_df['stim'] == xi) & (freq_df['grp_idx'] == grp_i)\n",
    "        freq_df.loc[mask, 'true_prob'] = true_probs[i, grp_i]\n",
    "        freq_df.loc[mask, 'pred_prob'] = pred_probs[i, grp_i]\n",
    "        freq_df.loc[mask, 'true_prop'] = true_prop[i, grp_i]"
   ]
  },
  {
   "cell_type": "code",
   "execution_count": null,
   "id": "a9ca75de-74ed-4b09-afd8-ec6e255f6371",
   "metadata": {},
   "outputs": [],
   "source": [
    "RMSE = np.sqrt(np.mean(np.array(freq_df['pred_prob']-freq_df['true_prob'])**2))\n",
    "print(RMSE)"
   ]
  },
  {
   "cell_type": "code",
   "execution_count": null,
   "id": "64dfa59d-2c6f-4107-b777-8b54813483b6",
   "metadata": {},
   "outputs": [],
   "source": [
    "np.sqrt(np.mean(np.array(freq_df['true_prop']-freq_df['true_prob'])**2))"
   ]
  },
  {
   "cell_type": "code",
   "execution_count": null,
   "id": "43c3873d-487e-4d81-b516-2f69b7490f67",
   "metadata": {},
   "outputs": [],
   "source": [
    "az.loo(trace)"
   ]
  },
  {
   "cell_type": "code",
   "execution_count": null,
   "id": "34e01cf0-0f1a-4649-bae1-5be34d66f1b8",
   "metadata": {},
   "outputs": [],
   "source": []
  }
 ],
 "metadata": {
  "kernelspec": {
   "display_name": "Python 3 (Spyder)",
   "language": "python3",
   "name": "python3"
  },
  "language_info": {
   "codemirror_mode": {
    "name": "ipython",
    "version": 3
   },
   "file_extension": ".py",
   "mimetype": "text/x-python",
   "name": "python",
   "nbconvert_exporter": "python",
   "pygments_lexer": "ipython3",
   "version": "3.10.16"
  }
 },
 "nbformat": 4,
 "nbformat_minor": 5
}
