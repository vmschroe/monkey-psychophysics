{
 "cells": [
  {
   "cell_type": "code",
   "execution_count": null,
   "id": "19e20073-6bce-4c6d-832b-d4f996f6c705",
   "metadata": {},
   "outputs": [],
   "source": [
    "import numpy as np\n",
    "import pymc as pm\n",
    "import pandas as pd\n",
    "import arviz as az\n",
    "import matplotlib\n",
    "import matplotlib.pyplot as plt\n",
    "import os\n",
    "import math\n",
    "import pickle\n",
    "import ast\n",
    "import xarray as xr"
   ]
  },
  {
   "cell_type": "code",
   "execution_count": null,
   "id": "83181b8c-ed2e-4f9d-9338-a40d96dfe942",
   "metadata": {},
   "outputs": [],
   "source": [
    "#load and unpack data\n",
    "with open(\"Data_A\\\\ReadyData_Synth_A.pkl\", \"rb\") as f:\n",
    "    data_dict = pickle.load(f)\n",
    "\n",
    "cov_mat = data_dict['cov_mat']\n",
    "grp_idx = data_dict['grp_idx']\n",
    "obs_data = data_dict['resp']\n",
    "params_fixed = data_dict['params_fixed']"
   ]
  },
  {
   "cell_type": "code",
   "execution_count": null,
   "id": "14bc8017-d3e2-4472-843f-50628f4acef4",
   "metadata": {},
   "outputs": [],
   "source": [
    "exec(open(\"Build_Model_A.py\").read())"
   ]
  },
  {
   "cell_type": "code",
   "execution_count": null,
   "id": "be0ebea6-e8e9-499e-9215-06983b29bf5c",
   "metadata": {},
   "outputs": [],
   "source": [
    "with model_A:\n",
    "    trace = pm.sample(return_inferencedata=True, chains = 4, cores=1, progressbar=True, idata_kwargs={\"log_likelihood\": True})   \n",
    "    prior = pm.sample_prior_predictive(samples=1000)\n",
    "    pm.sample_posterior_predictive(trace,extend_inferencedata=True)\n",
    "\n",
    "trace.extend(prior)    \n",
    "print(\"FINISHED SAMPLING!\")"
   ]
  },
  {
   "cell_type": "code",
   "execution_count": null,
   "id": "8f25319e-6f5e-41f4-b874-3a6df7611233",
   "metadata": {},
   "outputs": [],
   "source": []
  },
  {
   "cell_type": "code",
   "execution_count": null,
   "id": "39bc9892-92ea-482c-b264-3f1656975158",
   "metadata": {},
   "outputs": [],
   "source": [
    "az.plot_dist_comparison(trace, var_names = 'gam_l')"
   ]
  },
  {
   "cell_type": "markdown",
   "id": "22bfdd10-47a5-4b00-8f8f-ee13cc804e85",
   "metadata": {},
   "source": [
    "Goal: Build plotting utilities for comparing posteriors. See ffg"
   ]
  }
 ],
 "metadata": {
  "kernelspec": {
   "display_name": "Python 3 (Spyder)",
   "language": "python3",
   "name": "python3"
  },
  "language_info": {
   "codemirror_mode": {
    "name": "ipython",
    "version": 3
   },
   "file_extension": ".py",
   "mimetype": "text/x-python",
   "name": "python",
   "nbconvert_exporter": "python",
   "pygments_lexer": "ipython3",
   "version": "3.10.16"
  }
 },
 "nbformat": 4,
 "nbformat_minor": 5
}
