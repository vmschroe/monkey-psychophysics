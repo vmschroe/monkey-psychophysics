{
 "cells": [
  {
   "cell_type": "markdown",
   "id": "d3e44525-cafa-48a6-824c-5ddf03e8f69b",
   "metadata": {},
   "source": [
    "Combine Data into a single dataframe and pickle it"
   ]
  },
  {
   "cell_type": "code",
   "execution_count": 1,
   "id": "7014adf5-6d7a-4546-8f09-04b5b9c1fb4d",
   "metadata": {},
   "outputs": [],
   "source": [
    "import numpy as np\n",
    "import pandas as pd\n",
    "import os"
   ]
  },
  {
   "cell_type": "code",
   "execution_count": null,
   "id": "33c505e4-6636-425d-969f-2d4e0a3298fa",
   "metadata": {},
   "outputs": [],
   "source": []
  },
  {
   "cell_type": "code",
   "execution_count": null,
   "id": "9a5fb0cd-73fa-42f3-92bb-cb70718ba043",
   "metadata": {},
   "outputs": [],
   "source": [
    "directory_path = '/home/vmschroe/Documents/Monkey Analysis/Sirius_data(1)'\n",
    "drop_abort_trials = True\n",
    "drop_freq_manip = True\n",
    "drop_repeats = True\n",
    "\n",
    "\n",
    "df = pd.DataFrame()\n",
    "# Iterate over each file in the directory\n",
    "for filename in os.listdir(directory_path):\n",
    "    if filename.endswith('.xlsx'):\n",
    "        # Construct the full file path\n",
    "        file_path = os.path.join(directory_path, filename)\n",
    "        \n",
    "        # Read the Excel file into a temporary DataFrame\n",
    "        dftemp = pd.read_excel(file_path, engine='openpyxl')\n",
    "        \n",
    "        # Concatenate the temporary DataFrame with the main DataFrame\n",
    "        df = pd.concat([df, dftemp], axis=0)\n",
    "\n",
    "if drop_abort_trials == True:\n",
    "    # drop aborted trials\n",
    "    df = df[df['outcomeID'].isin([10, 31, 32, 33, 34])]\n",
    "\n",
    "if drop_freq_manip == True:\n",
    "    # drop trials with frequency manipulation\n",
    "    df = df[df['tact2_Left_FR'].isin([0, 200])]\n",
    "    df = df[df['tact2_Right_FR'].isin([0, 200])]\n",
    "    \n",
    "if drop_repeats == True:\n",
    "    # drop repeated trials\n",
    "    df = df[(df['repeatedTrial'] == False)]"
   ]
  }
 ],
 "metadata": {
  "kernelspec": {
   "display_name": "Python 3 (Spyder)",
   "language": "python3",
   "name": "python3"
  },
  "language_info": {
   "codemirror_mode": {
    "name": "ipython",
    "version": 3
   },
   "file_extension": ".py",
   "mimetype": "text/x-python",
   "name": "python",
   "nbconvert_exporter": "python",
   "pygments_lexer": "ipython3",
   "version": "3.10.16"
  }
 },
 "nbformat": 4,
 "nbformat_minor": 5
}
